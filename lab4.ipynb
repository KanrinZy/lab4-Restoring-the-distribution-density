{
 "cells": [
  {
   "cell_type": "markdown",
   "metadata": {},
   "source": [
    "## Лабораторная 4: восстановление плотности распределения"
   ]
  },
  {
   "cell_type": "markdown",
   "metadata": {},
   "source": [
    "Данными в этом задании являются измерения некоторых проверочных параметров на конвейерах  сборки оборудования Bosh (см. [конкурс](https://www.kaggle.com/c/bosch-production-line-performance) «Bosch Production Line Performance» на Kaggle). \n",
    "\n",
    "Все исходные данные Bosh не помещаются в оперативную память компьютера, поэтому в файле `data.csv` — лишь некоторые признаки. Прочтите данные из файла `data.csv`. Целевым признаком здесь является `Response` — наличие брака в оборудовании. "
   ]
  },
  {
   "cell_type": "code",
   "execution_count": 11,
   "metadata": {},
   "outputs": [],
   "source": [
    "import pandas as pd"
   ]
  },
  {
   "cell_type": "code",
   "execution_count": 12,
   "metadata": {},
   "outputs": [],
   "source": [
    "data=pd.read_csv('data.csv',delimiter=',')"
   ]
  },
  {
   "cell_type": "markdown",
   "metadata": {},
   "source": [
    "## 1 \n",
    "Постройте на одном графике два приближения к плотности распределения признака `L1_S24_F1846` для `Response = 0` и для `Response = 1`, используя одно из следующих ядер (номер ядра выберите по формуле: `(n mod 6) + 1`, где `n` — ваш номер в списке группы):\n",
    "\n",
    "    1.\tкусочно-постоянное (прямоугольное) -  tophat\n",
    "    2.\tгауссовское -  gaussian\n",
    "    3.\tлинейное (треугольник) -  linear\n",
    "    4.\tкосинусоидальное -  cosine\n",
    "    5.\tквадратичное (Епанечникова) -  epanechnikov\n",
    "    6.\tэкспоненциальное -  exponential\n"
   ]
  },
  {
   "cell_type": "code",
   "execution_count": 13,
   "metadata": {},
   "outputs": [],
   "source": [
    "from sklearn.neighbors._kde import KernelDensity\n",
    "#from sklearn.neighbors.kde import KernelDensity !данная команда на новых версиях не работает!\n",
    "import numpy as np\n",
    "\n",
    "import matplotlib.pyplot as plt"
   ]
  },
  {
   "cell_type": "markdown",
   "metadata": {},
   "source": [
    "*Help:*\n",
    "\n",
    "    i0 = data['Response'] == 0\n",
    "    kde0 = KernelDensity(kernel='gaussian', bandwidth=0.1).fit(data.loc[i0, 'L1_S24_F1846'].values.reshape(-1, 1))\n",
    "    X_plot = np.linspace(-1, 1, 1000).reshape(-1, 1)\n",
    "    Dens0 = np.exp(kde0.score_samples(X_plot))  # score_samples возвращает логарифм плотности"
   ]
  },
  {
   "cell_type": "code",
   "execution_count": 14,
   "metadata": {},
   "outputs": [
    {
     "data": {
      "image/png": "[encoded data removed]",
      "text/plain": [
       "<Figure size 640x480 with 1 Axes>"
      ]
     },
     "metadata": {},
     "output_type": "display_data"
    }
   ],
   "source": [
    "# 2 mod 6+1=3 \n",
    "i0 = data['Response'] == 0\n",
    "kde0 = KernelDensity(kernel='linear', bandwidth=0.1).fit(data.loc[i0, 'L1_S24_F1846'].values.reshape(-1, 1))\n",
    "X_plot = np.linspace(-1, 1, 1000).reshape(-1, 1)\n",
    "Dens0 = np.exp(kde0.score_samples(X_plot))  # score_samples возвращает логарифм плотности\n",
    "\n",
    "i1 = data['Response'] == 1\n",
    "kde1 = KernelDensity(kernel='linear', bandwidth=0.1).fit(data.loc[i1, 'L1_S24_F1846'].values.reshape(-1, 1))\n",
    "Dens1 = np.exp(kde1.score_samples(X_plot))  # score_samples возвращает логарифм плотности\n",
    "\n",
    "plt.scatter(X_plot,Dens0,color='red')\n",
    "plt.scatter(X_plot,Dens1,color='green')\n",
    "plt.show()\n",
    "\n"
   ]
  },
  {
   "cell_type": "markdown",
   "metadata": {},
   "source": [
    "Ответьте в комментариях на вопрос: является ли выборка хорошо разделимой по признаку  `L1_S24_F1846`?"
   ]
  },
  {
   "cell_type": "code",
   "execution_count": 15,
   "metadata": {},
   "outputs": [],
   "source": [
    "#В некотороыхы местах сливается"
   ]
  },
  {
   "cell_type": "markdown",
   "metadata": {},
   "source": [
    "## 2"
   ]
  },
  {
   "cell_type": "markdown",
   "metadata": {},
   "source": [
    "Разбейте выборку `data` на две равные части: тренировочную `dataTrain` и проверочную `dataTest`. "
   ]
  },
  {
   "cell_type": "code",
   "execution_count": 16,
   "metadata": {},
   "outputs": [],
   "source": [
    "dataTrain = data.loc[0:data.shape[0] / 2, ].reset_index(drop=True)\n",
    "dataTest = data.loc[data.shape[0] / 2:data.shape[0], ].reset_index(drop=True)"
   ]
  },
  {
   "cell_type": "markdown",
   "metadata": {},
   "source": [
    "Пользуясь кросс-валидацией, подберите **для каждого класса `Response` (`r=0` и `r=1`)** значение ширины ядра `bandwidth`, при котором логарифм правдоподобия максимален на проверочной выборке.\n",
    "\n",
    "*Help:*\n",
    "\n",
    "    r = 0\n",
    "    kde0 = KernelDensity(kernel='gaussian', bandwidth=0.05)\n",
    "    kde0.fit(dataTrain.loc[dataTrain['Response']==r, 'L1_S24_F1846'].values.reshape(-1, 1))\n",
    "    logProbability0 = kde0.score_samples(dataTest.loc[dataTest['Response']==r, 'L1_S24_F1846'].values.reshape(-1, 1))\n",
    "    logProbability0[np.isinf(logProbability0)] = -100 # заменяем -бесконечность\n",
    "    logLikehood0 = logProbability0.sum()\n",
    "    print(logLikehood0)"
   ]
  },
  {
   "cell_type": "code",
   "execution_count": 17,
   "metadata": {},
   "outputs": [
    {
     "name": "stdout",
     "output_type": "stream",
     "text": [
      "21996.692547839983\n",
      "114.80410633230645\n"
     ]
    }
   ],
   "source": [
    "r = 0\n",
    "kde0 = KernelDensity(kernel='linear', bandwidth=0.05)\n",
    "kde0.fit(dataTrain.loc[dataTrain['Response']==r, 'L1_S24_F1846'].values.reshape(-1, 1))\n",
    "logProbability0 = kde0.score_samples(dataTest.loc[dataTest['Response']==r, 'L1_S24_F1846'].values.reshape(-1, 1))\n",
    "logProbability0[np.isinf(logProbability0)] = -100 # заменяем -бесконечность\n",
    "logLikehood0 = logProbability0.sum()\n",
    "print(logLikehood0)\n",
    "\n",
    "r = 1\n",
    "kde1 = KernelDensity(kernel='linear', bandwidth=0.05)\n",
    "kde1.fit(dataTrain.loc[dataTrain['Response']==r, 'L1_S24_F1846'].values.reshape(-1, 1))\n",
    "logProbability1 = kde1.score_samples(dataTest.loc[dataTest['Response']==r, 'L1_S24_F1846'].values.reshape(-1, 1))\n",
    "logProbability1[np.isinf(logProbability1)] = -100 # заменяем -бесконечность\n",
    "logLikehood1 = logProbability1.sum()\n",
    "print(logLikehood1)\n",
    "\n"
   ]
  },
  {
   "cell_type": "markdown",
   "metadata": {},
   "source": [
    "### 3"
   ]
  },
  {
   "cell_type": "markdown",
   "metadata": {},
   "source": [
    "Для найденных наилучших `bandwidth` вычислите `p(x|0)` и `p(x|1)` для тестовой выборки. "
   ]
  },
  {
   "cell_type": "code",
   "execution_count": 18,
   "metadata": {},
   "outputs": [
    {
     "name": "stderr",
     "output_type": "stream",
     "text": [
      "C:\\Users\\Кирилл\\AppData\\Local\\Temp\\ipykernel_9832\\2163624431.py:6: RuntimeWarning: invalid value encountered in divide\n",
      "  predictionProb0afterX = (predictionProbXafter0 * prob0) / probX\n",
      "C:\\Users\\Кирилл\\AppData\\Local\\Temp\\ipykernel_9832\\2163624431.py:7: RuntimeWarning: invalid value encountered in divide\n",
      "  predictionProb1afterX = (predictionProbXafter1 * prob1) / probX\n"
     ]
    }
   ],
   "source": [
    "predictionProbXafter0 = np.exp(kde0.score_samples(dataTest['L1_S24_F1846'].values.reshape(-1, 1)))\n",
    "predictionProbXafter1 = np.exp(kde1.score_samples(dataTest['L1_S24_F1846'].values.reshape(-1, 1)))\n",
    "prob1 = dataTest['Response'].mean()\n",
    "prob0 = 1 - prob1\n",
    "probX = predictionProbXafter0 * prob0 + predictionProbXafter1 * prob1\n",
    "predictionProb0afterX = (predictionProbXafter0 * prob0) / probX\n",
    "predictionProb1afterX = (predictionProbXafter1 * prob1) / probX"
   ]
  },
  {
   "cell_type": "markdown",
   "metadata": {},
   "source": [
    "По формуле Байеса найдите затем `p(0|x)` и `p(1|x)`. Отсортируйте все объекты тестовой выборки по возрастанию предсказанной вероятности `p(1|x)`, выведите на экран вероятности для последних 10 объектов и рассчитайте количество бракованных деталей среди последних 100 объектов в отсортированном ряду.\n",
    "\n",
    "*Help:*\n",
    "    \n",
    "    ind = np.argsort(predictionProb1afterX) - сортировка, возвращающая индексы элементов\n",
    "    print(predictionProb1afterX[ind[-10:]]) - вывод последних 10 элементов\n",
    "    print(sum(dataTest.loc[ind[-100:],'Response'])) - количество бракованных среди 100 с максимальной вероятностью брака"
   ]
  },
  {
   "cell_type": "code",
   "execution_count": 19,
   "metadata": {},
   "outputs": [
    {
     "name": "stdout",
     "output_type": "stream",
     "text": [
      "[0.61155556 0.61155556 0.61206999 0.61206999 0.61755211 0.63044663\n",
      " 0.65783869 0.65783869        nan        nan]\n",
      "29\n"
     ]
    }
   ],
   "source": [
    "ind = np.argsort(predictionProb1afterX) # сортировка, возвращающая индексы элементов\n",
    "print(predictionProb1afterX[ind[-10:]]) # вывод последних 10 элементов\n",
    "print(sum(dataTest.loc[ind[-100:],'Response'])) # количество бракованных среди 100 с максимальной вероятностью брака"
   ]
  },
  {
   "cell_type": "code",
   "execution_count": null,
   "metadata": {},
   "outputs": [],
   "source": []
  }
 ],
 "metadata": {
  "kernelspec": {
   "display_name": "Python 3.10.7 64-bit",
   "language": "python",
   "name": "python3"
  },
  "language_info": {
   "codemirror_mode": {
    "name": "ipython",
    "version": 3
   },
   "file_extension": ".py",
   "mimetype": "text/x-python",
   "name": "python",
   "nbconvert_exporter": "python",
   "pygments_lexer": "ipython3",
   "version": "3.10.7"
  },
  "vscode": {
   "interpreter": {
    "hash": "a9ba2379aa31e5456e1ad50d34783f8a17b1f0211fdf4fdbebdeca4f17df7db1"
   }
  }
 },
 "nbformat": 4,
 "nbformat_minor": 2
}
